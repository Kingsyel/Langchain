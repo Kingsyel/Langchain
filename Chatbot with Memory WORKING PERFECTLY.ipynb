{
 "cells": [
  {
   "cell_type": "code",
   "execution_count": 1,
   "id": "213a1da9-fc8e-476d-9561-48e5d1771779",
   "metadata": {},
   "outputs": [],
   "source": [
    "from langgraph.store.memory import InMemoryStore\n",
    "in_memory_store = InMemoryStore()"
   ]
  },
  {
   "cell_type": "code",
   "execution_count": 2,
   "id": "c9ea182f-b479-44a0-bf82-e39270d5611e",
   "metadata": {},
   "outputs": [
    {
     "data": {
      "text/plain": [
       "<langgraph.store.memory.InMemoryStore at 0x21b464081d0>"
      ]
     },
     "execution_count": 2,
     "metadata": {},
     "output_type": "execute_result"
    }
   ],
   "source": [
    "in_memory_store"
   ]
  },
  {
   "cell_type": "code",
   "execution_count": 4,
   "id": "44b85814-b696-408f-a4c3-b5b9452441db",
   "metadata": {},
   "outputs": [
    {
     "name": "stdin",
     "output_type": "stream",
     "text": [
      "LANGCHAIN_API_KEY:  ········\n"
     ]
    }
   ],
   "source": [
    "import os, getpass\n",
    "\n",
    "def _set_env(var: str):\n",
    "    if not os.environ.get(var):\n",
    "        os.environ[var] = getpass.getpass(f\"{var}: \")\n",
    "\n",
    "_set_env(\"LANGCHAIN_API_KEY\")\n",
    "os.environ[\"LANGCHAIN_TRACING_V2\"] = \"true\"\n",
    "os.environ[\"LANGCHAIN_PROJECT\"] = \"chatbot with memory\""
   ]
  },
  {
   "cell_type": "code",
   "execution_count": 5,
   "id": "c427878f-6eaa-4479-b03b-b2186d249c42",
   "metadata": {},
   "outputs": [],
   "source": [
    "import uuid"
   ]
  },
  {
   "cell_type": "code",
   "execution_count": 7,
   "id": "eeb59354-9280-4ffc-81b6-3817ce2d6934",
   "metadata": {},
   "outputs": [],
   "source": [
    "#namespace for the mmemory to save\n",
    "user_id = \"1\"\n",
    "namespace_for_memory = (user_id, \"memories\")\n",
    "\n",
    "# Save a mmemory to namespace as key and value\n",
    "key = str(uuid.uuid4())\n",
    "\n",
    "#value needs to be a dictionary\n",
    "value = {\"movie_preference\": \"I like comedy\"}\n",
    "\n",
    "# Save the mmemory\n",
    "in_memory_store.put(namespace_for_memory, key=key, value=value)"
   ]
  },
  {
   "cell_type": "code",
   "execution_count": 8,
   "id": "608821e7-39d8-44db-b117-cc646a60250e",
   "metadata": {},
   "outputs": [
    {
     "data": {
      "text/plain": [
       "list"
      ]
     },
     "execution_count": 8,
     "metadata": {},
     "output_type": "execute_result"
    }
   ],
   "source": [
    "memories = in_memory_store.search(namespace_for_memory)\n",
    "type(memories)"
   ]
  },
  {
   "cell_type": "code",
   "execution_count": 9,
   "id": "35cab1cb-3005-4032-81b9-a3003f19aef2",
   "metadata": {},
   "outputs": [
    {
     "data": {
      "text/plain": [
       "{'value': {'movie_preference': 'I like comedy'},\n",
       " 'key': '16ffba5a-6d57-4a1c-930a-3217d9851103',\n",
       " 'namespace': ['1', 'memories'],\n",
       " 'created_at': '2024-12-28T09:56:42.884032+00:00',\n",
       " 'updated_at': '2024-12-28T09:56:42.884032+00:00',\n",
       " 'score': None}"
      ]
     },
     "execution_count": 9,
     "metadata": {},
     "output_type": "execute_result"
    }
   ],
   "source": [
    "# Metadata\n",
    "memories[0].dict()"
   ]
  },
  {
   "cell_type": "code",
   "execution_count": 10,
   "id": "979e639d-179b-4b21-ad20-ed157d8d27c3",
   "metadata": {},
   "outputs": [
    {
     "name": "stdout",
     "output_type": "stream",
     "text": [
      "16ffba5a-6d57-4a1c-930a-3217d9851103 {'movie_preference': 'I like comedy'}\n"
     ]
    }
   ],
   "source": [
    "# The key, value\n",
    "print(memories[0].key, memories[0].value)"
   ]
  },
  {
   "cell_type": "code",
   "execution_count": 12,
   "id": "0ed19e5a-e03d-459b-842a-f5f747e1dc86",
   "metadata": {},
   "outputs": [
    {
     "data": {
      "text/plain": [
       "{'value': {'movie_preference': 'I like comedy'},\n",
       " 'key': '16ffba5a-6d57-4a1c-930a-3217d9851103',\n",
       " 'namespace': ['1', 'memories'],\n",
       " 'created_at': '2024-12-28T09:56:42.884032+00:00',\n",
       " 'updated_at': '2024-12-28T09:56:42.884032+00:00'}"
      ]
     },
     "execution_count": 12,
     "metadata": {},
     "output_type": "execute_result"
    }
   ],
   "source": [
    "# Get the memory by namespace and key\n",
    "memory = in_memory_store.get(namespace_for_memory, key)\n",
    "memory.dict()"
   ]
  },
  {
   "cell_type": "markdown",
   "id": "fb9937a9-aa21-4189-8457-5b275fde03cc",
   "metadata": {},
   "source": [
    "CHATBOT WITH LONG-TERM MEMORY:\n",
    "\n",
    "for short-term i'll use a CHECKPOINTER and for long-term i'll use LANGGRAPH STORE"
   ]
  },
  {
   "cell_type": "code",
   "execution_count": 13,
   "id": "dbc6942c-df08-445c-a87e-704152681084",
   "metadata": {},
   "outputs": [
    {
     "name": "stdin",
     "output_type": "stream",
     "text": [
      "HUGGINGFACEHUB_API_KEY:  ········\n"
     ]
    }
   ],
   "source": [
    "_set_env(\"HUGGINGFACEHUB_API_KEY\")"
   ]
  },
  {
   "cell_type": "code",
   "execution_count": 14,
   "id": "aa149eb7-028e-4fce-bb29-c074c532d252",
   "metadata": {},
   "outputs": [],
   "source": [
    "from langchain_huggingface import ChatHuggingFace, HuggingFaceEndpoint\n",
    "\n",
    "llm = HuggingFaceEndpoint(\n",
    "    repo_id=\"HuggingFaceH4/zephyr-7b-beta\",\n",
    "    task=\"text-generation\",\n",
    "    max_new_tokens=300,\n",
    "    do_sample=False,\n",
    "    repetition_penalty=1.03,\n",
    ")\n",
    "\n",
    "model = ChatHuggingFace(llm=llm)"
   ]
  },
  {
   "cell_type": "code",
   "execution_count": 15,
   "id": "6d4542d9-004a-40fb-ad06-52c0395b047a",
   "metadata": {},
   "outputs": [
    {
     "data": {
      "text/plain": [
       "ChatHuggingFace(llm=HuggingFaceEndpoint(repo_id='HuggingFaceH4/zephyr-7b-beta', max_new_tokens=300, repetition_penalty=1.03, stop_sequences=[], server_kwargs={}, model_kwargs={}, model='HuggingFaceH4/zephyr-7b-beta', client=<InferenceClient(model='HuggingFaceH4/zephyr-7b-beta', timeout=120)>, async_client=<InferenceClient(model='HuggingFaceH4/zephyr-7b-beta', timeout=120)>, task='text-generation'), tokenizer=LlamaTokenizerFast(name_or_path='HuggingFaceH4/zephyr-7b-beta', vocab_size=32000, model_max_length=1000000000000000019884624838656, is_fast=True, padding_side='left', truncation_side='left', special_tokens={'bos_token': '<s>', 'eos_token': '</s>', 'unk_token': '<unk>', 'pad_token': '</s>', 'additional_special_tokens': ['<unk>', '<s>', '</s>']}, clean_up_tokenization_spaces=False, added_tokens_decoder={\n",
       "\t0: AddedToken(\"<unk>\", rstrip=False, lstrip=False, single_word=False, normalized=False, special=True),\n",
       "\t1: AddedToken(\"<s>\", rstrip=False, lstrip=False, single_word=False, normalized=False, special=True),\n",
       "\t2: AddedToken(\"</s>\", rstrip=False, lstrip=False, single_word=False, normalized=False, special=True),\n",
       "}\n",
       "), model_id='HuggingFaceH4/zephyr-7b-beta')"
      ]
     },
     "execution_count": 15,
     "metadata": {},
     "output_type": "execute_result"
    }
   ],
   "source": [
    "model"
   ]
  },
  {
   "cell_type": "code",
   "execution_count": 18,
   "id": "e0055f21-5341-4a52-bdc1-473678d4cd52",
   "metadata": {},
   "outputs": [],
   "source": [
    "from IPython.display import Image, display\n",
    "from langgraph.checkpoint.memory import MemorySaver\n",
    "from langgraph.graph import StateGraph, MessagesState, START, END\n",
    "from langgraph.store.base import BaseStore\n",
    "\n",
    "from langchain_core.messages import HumanMessage, SystemMessage\n",
    "from langchain_core.runnables.config import RunnableConfig"
   ]
  },
  {
   "cell_type": "code",
   "execution_count": 19,
   "id": "d3790cfd-d8c2-4511-b77b-1ec951744beb",
   "metadata": {},
   "outputs": [],
   "source": [
    "# Chatbot instruction \n",
    "MODEL_SYSTEM_MESSAGE = \"\"\"You are a helpful assistant with memory that provides information about the user. \n",
    "If you have memory for this user, use it to personalize your responses.\n",
    "Here is the memory (it may be empty): {memory}\"\"\"\n",
    "\n",
    "# Create new memory from the chat history and any existing memory\n",
    "CREATE_MEMORY_INSTRUCTION = \"\"\"\"You are collecting information about the user to personalize your responses.\n",
    "\n",
    "CURRENT USER INFORMATION:\n",
    "{memory}\n",
    "\n",
    "INSTRUCTIONS:\n",
    "1. Review the chat history below carefully\n",
    "2. Identify new information about the user, such as:\n",
    "   - Personal details (name, location)\n",
    "   - Preferences (likes, dislikes)\n",
    "   - Interests and hobbies\n",
    "   - Past experiences\n",
    "   - Goals or future plans\n",
    "3. Merge any new information with existing memory\n",
    "4. Format the memory as a clear, bulleted list\n",
    "5. If new information conflicts with existing memory, keep the most recent version\n",
    "\n",
    "Remember: Only include factual information directly stated by the user. Do not make assumptions or inferences.\n",
    "\n",
    "Based on the chat history below, please update the user information:\"\"\""
   ]
  },
  {
   "cell_type": "code",
   "execution_count": 21,
   "id": "ee85c299-1c87-4418-81ff-b36612d0956c",
   "metadata": {},
   "outputs": [],
   "source": [
    "def call_model(state: MessagesState, config: RunnableConfig, store: BaseStore):\n",
    "    \"\"\"Load memory from the store and use it to personalize the chatbot's response.\"\"\"\n",
    "\n",
    "    # Get user ID from the config\n",
    "    user_id = config[\"configurable\"][\"user_id\"]\n",
    "\n",
    "    # Retrieve memory from the store\n",
    "    namespace = (\"memory\", user_id)\n",
    "    key = \"user_memory\"\n",
    "    existing_memory = store.get(namespace=namespace, key=key)\n",
    "\n",
    "    # Extract the actual memory if it exists and add a prefix\n",
    "    if existing_memory:\n",
    "        # Value is a dictionary with a memory key \n",
    "        existing_memory_content = existing_memory.value.get('memory')\n",
    "    else:\n",
    "        existing_memory_content = \"No existing memory found\"\n",
    "\n",
    "    # Format the memory in the system prompt\n",
    "    system_msg = MODEL_SYSTEM_MESSAGE.format(memory=existing_memory_content)\n",
    "\n",
    "    # Respond using memory as well as the chat history \n",
    "    response = model.invoke([SystemMessage(content=system_msg)]+state[\"messages\"])\n",
    "    \n",
    "    return {\"messages\": response}"
   ]
  },
  {
   "cell_type": "code",
   "execution_count": 22,
   "id": "c161a61e-53f4-43b3-ab3c-2228f444613b",
   "metadata": {},
   "outputs": [],
   "source": [
    "def write_memory(state: MessagesState, config: RunnableConfig, store: BaseStore):\n",
    "\n",
    "    \"\"\"Reflect on the chat history and save a memory to the store.\"\"\"\n",
    "    \n",
    "    # Get the user ID from the config\n",
    "    user_id = config[\"configurable\"][\"user_id\"]\n",
    "\n",
    "    # Retrieve existing memory from the store\n",
    "    namespace = (\"memory\", user_id)\n",
    "    existing_memory = store.get(namespace, \"user_memory\")\n",
    "        \n",
    "    # Extract the memory\n",
    "    if existing_memory:\n",
    "        existing_memory_content = existing_memory.value.get('memory')\n",
    "    else:\n",
    "        existing_memory_content = \"No existing memory found.\"\n",
    "\n",
    "    # Format the memory in the system prompt\n",
    "    system_msg = CREATE_MEMORY_INSTRUCTION.format(memory=existing_memory_content)\n",
    "    new_memory = model.invoke([SystemMessage(content=system_msg)]+state['messages'])\n",
    "\n",
    "    # Overwrite the existing memory in the store \n",
    "    key = \"user_memory\"\n",
    "\n",
    "    # Write value as a dictionary with a memory key\n",
    "    store.put(namespace, key, {\"memory\": new_memory.content})"
   ]
  },
  {
   "cell_type": "code",
   "execution_count": 23,
   "id": "b7c4c553-8a8b-4252-b338-86b26dbae6fc",
   "metadata": {},
   "outputs": [
    {
     "data": {
      "image/png": "[encoded data removed]",
      "text/plain": [
       "<IPython.core.display.Image object>"
      ]
     },
     "metadata": {},
     "output_type": "display_data"
    }
   ],
   "source": [
    "# Define the graph\n",
    "builder = StateGraph(MessagesState)\n",
    "builder.add_node(\"call_model\", call_model)\n",
    "builder.add_node(\"write_memory\", write_memory)\n",
    "builder.add_edge(START, \"call_model\")\n",
    "builder.add_edge(\"call_model\", \"write_memory\")\n",
    "builder.add_edge(\"write_memory\", END)\n",
    "\n",
    "# Store for long-term (across-thread) memory\n",
    "across_thread_memory = InMemoryStore()\n",
    "\n",
    "# Checkpointer for short-term (within-thread) memory\n",
    "within_thread_memory = MemorySaver()\n",
    "\n",
    "# Compile the graph with the checkpointer fir and store\n",
    "graph = builder.compile(checkpointer=within_thread_memory, store=across_thread_memory)\n",
    "\n",
    "# View\n",
    "display(Image(graph.get_graph(xray=1).draw_mermaid_png()))"
   ]
  },
  {
   "cell_type": "code",
   "execution_count": 24,
   "id": "6b9b9d49-ec9d-4113-bd7e-7446277f475c",
   "metadata": {},
   "outputs": [
    {
     "name": "stdout",
     "output_type": "stream",
     "text": [
      "================================\u001b[1m Human Message \u001b[0m=================================\n",
      "\n",
      "Hi, my name is Kings\n",
      "==================================\u001b[1m Ai Message \u001b[0m==================================\n",
      "\n",
      "Hello, Kings. Based on our past interactions, I know that you are interested in learning more about technology trends and business strategies. I can provide you with articles, reports, and insights related to these topics. Is there anything else you'd like me to remember about you? Let me know, and I'll update my records accordingly.\n"
     ]
    }
   ],
   "source": [
    "# We supply a thread ID for short-term (within-thread) memory\n",
    "# We supply a user ID for long-term (across-thread) memory \n",
    "config = {\"configurable\": {\"thread_id\": \"1\", \"user_id\": \"1\"}}\n",
    "\n",
    "# User input \n",
    "input_messages = [HumanMessage(content=\"Hi, my name is Kings\")]\n",
    "\n",
    "# Run the graph\n",
    "for chunk in graph.stream({\"messages\": input_messages}, config, stream_mode=\"values\"):\n",
    "    chunk[\"messages\"][-1].pretty_print()"
   ]
  },
  {
   "cell_type": "code",
   "execution_count": 25,
   "id": "fa07cb63-2979-41a4-b6e2-1e18b22f43d1",
   "metadata": {},
   "outputs": [
    {
     "name": "stdout",
     "output_type": "stream",
     "text": [
      "================================\u001b[1m Human Message \u001b[0m=================================\n",
      "\n",
      "I'd like to know how i can apply my knowledge in AI to earn a living\n",
      "==================================\u001b[1m Ai Message \u001b[0m==================================\n",
      "\n",
      "There are several career paths you can consider in the field of AI to earn a living, depending on your skills and experience. Here are some options:\n",
      "\n",
      "1. Data Scientist: As a data scientist, you will work on developing AI models, analyzing data, and interpreting insights for businesses and organizations. This role requires a strong background in statistics, mathematics, and computer science, along with experience in machine learning and deep learning algorithms.\n",
      "\n",
      "2. Machine Learning Engineer\n"
     ]
    }
   ],
   "source": [
    "# User input \n",
    "input_messages = [HumanMessage(content=\"I'd like to know how i can apply my knowledge in AI to earn a living\")]\n",
    "\n",
    "# Run the graph\n",
    "for chunk in graph.stream({\"messages\": input_messages}, config, stream_mode=\"values\"):\n",
    "    chunk[\"messages\"][-1].pretty_print()"
   ]
  },
  {
   "cell_type": "markdown",
   "id": "17396deb-8ea4-45f6-9a6c-37842277d425",
   "metadata": {},
   "source": [
    "Here MemorySaver checkpointer is being used as it saves the chat history within thread. \n",
    "\n",
    "I'll have a look at it below"
   ]
  },
  {
   "cell_type": "code",
   "execution_count": 26,
   "id": "d4d1c363-3881-4db3-9da2-41b382fe0700",
   "metadata": {},
   "outputs": [
    {
     "name": "stdout",
     "output_type": "stream",
     "text": [
      "================================\u001b[1m Human Message \u001b[0m=================================\n",
      "\n",
      "Hi, my name is Kings\n",
      "==================================\u001b[1m Ai Message \u001b[0m==================================\n",
      "\n",
      "Hello, Kings. Based on our past interactions, I know that you are interested in learning more about technology trends and business strategies. I can provide you with articles, reports, and insights related to these topics. Is there anything else you'd like me to remember about you? Let me know, and I'll update my records accordingly.\n",
      "================================\u001b[1m Human Message \u001b[0m=================================\n",
      "\n",
      "I'd like to know how i can apply my knowledge in AI to earn a living\n",
      "==================================\u001b[1m Ai Message \u001b[0m==================================\n",
      "\n",
      "There are several career paths you can consider in the field of AI to earn a living, depending on your skills and experience. Here are some options:\n",
      "\n",
      "1. Data Scientist: As a data scientist, you will work on developing AI models, analyzing data, and interpreting insights for businesses and organizations. This role requires a strong background in statistics, mathematics, and computer science, along with experience in machine learning and deep learning algorithms.\n",
      "\n",
      "2. Machine Learning Engineer\n"
     ]
    }
   ],
   "source": [
    "thread = {\"configurable\": {\"thread_id\": \"1\"}}\n",
    "state = graph.get_state(thread).values\n",
    "for m in state[\"messages\"]: \n",
    "    m.pretty_print()"
   ]
  },
  {
   "cell_type": "markdown",
   "id": "ec72b16b-d1e0-424f-b1f7-25176ea51cd4",
   "metadata": {},
   "source": [
    "Below i'll confirm if the the memory was saved to store \"across_thread_memory\" compiled with InMemoryStore function."
   ]
  },
  {
   "cell_type": "code",
   "execution_count": 27,
   "id": "bfa4cf75-c199-4e83-94c5-43856ff8dc62",
   "metadata": {},
   "outputs": [
    {
     "data": {
      "text/plain": [
       "{'value': {'memory': \"Based on your recent question, I want to make sure your user information is up-to-date. Here's how I'll update it:\\n\\nUSER INFORMATION:\\n- Name: Kings\\n- Interests: technology trends, business strategies, AI and data science\\n- Goals: applying AI knowledge to earn a living\\n\\nThe above goal you stated aligns with your interest in AI. As we discuss your options in applying your AI knowledge to earn a living,\"},\n",
       " 'key': 'user_memory',\n",
       " 'namespace': ['memory', '1'],\n",
       " 'created_at': '2024-12-28T10:16:51.285023+00:00',\n",
       " 'updated_at': '2024-12-28T10:16:51.285023+00:00'}"
      ]
     },
     "execution_count": 27,
     "metadata": {},
     "output_type": "execute_result"
    }
   ],
   "source": [
    "# Namespace for the memory to save\n",
    "user_id = \"1\"\n",
    "namespace = (\"memory\", user_id)\n",
    "existing_memory = across_thread_memory.get(namespace, \"user_memory\")\n",
    "existing_memory.dict()"
   ]
  },
  {
   "cell_type": "markdown",
   "id": "0ae7c8d5-9f5c-41db-a1d2-03f9521452d5",
   "metadata": {},
   "source": [
    "I want to see if the chatbot will remember my profile and use it to personalize my response if i start a new thread with same ID"
   ]
  },
  {
   "cell_type": "code",
   "execution_count": 29,
   "id": "0d25ceec-0b26-4654-b9cf-73d1badaa31f",
   "metadata": {},
   "outputs": [
    {
     "name": "stdout",
     "output_type": "stream",
     "text": [
      "================================\u001b[1m Human Message \u001b[0m=================================\n",
      "\n",
      "Hi! Where would you recommend that kickstart my job searching journey in AI?\n",
      "==================================\u001b[1m Ai Message \u001b[0m==================================\n",
      "\n",
      "As you've expressed interest in applying AI knowledge to earn a living, and considering your goal, I'd suggest you start by exploring AI job opportunities in the following areas:\n",
      "\n",
      "1. Machine Learning Engineering: This role requires a solid background in mathematical concepts, statistics, programming languages such as Python, and expertise in machine learning algorithms.\n",
      "\n",
      "2. Data Scientist: As a data scientist, you'll analyze complex data sets, extract valuable insights, and work in collaboration with developers\n"
     ]
    }
   ],
   "source": [
    "# We supply a user ID for across-thread memory as well as a new thread ID\n",
    "config = {\"configurable\": {\"thread_id\": \"2\", \"user_id\": \"1\"}}\n",
    "\n",
    "# User input \n",
    "input_messages = [HumanMessage(content=\"Hi! Where would you recommend that kickstart my job searching journey in AI?\")]\n",
    "\n",
    "# Run the graph\n",
    "for chunk in graph.stream({\"messages\": input_messages}, config, stream_mode=\"values\"):\n",
    "    chunk[\"messages\"][-1].pretty_print()"
   ]
  },
  {
   "cell_type": "code",
   "execution_count": 31,
   "id": "370b88df-9275-45f6-8044-ee3474d4baff",
   "metadata": {},
   "outputs": [
    {
     "name": "stdout",
     "output_type": "stream",
     "text": [
      "================================\u001b[1m Human Message \u001b[0m=================================\n",
      "\n",
      "Great, can i know the median salaries for the jobs? i would like to know which one is more lucrative \n",
      "==================================\u001b[1m Ai Message \u001b[0m==================================\n",
      "\n",
      "According to recent reports, median salaries for machine learning engineers and data scientists in the United States are as follows:\n",
      "\n",
      "- Machine Learning Engineer: $142,000 - $153,00\n",
      "- Data Scientist: $126,000 - $152,00\n",
      "\n",
      "These ranges may vary depending on the company size, location, and level of experience.\n",
      "\n",
      "In terms of salary, both machine learning engineers\n"
     ]
    }
   ],
   "source": [
    "# User input \n",
    "input_messages = [HumanMessage(content=\"Great, can i know the median salaries for the jobs? i would like to know which one is more lucrative \")]\n",
    "\n",
    "# Run the graph\n",
    "for chunk in graph.stream({\"messages\": input_messages}, config, stream_mode=\"values\"):\n",
    "    chunk[\"messages\"][-1].pretty_print()"
   ]
  },
  {
   "cell_type": "code",
   "execution_count": null,
   "id": "877a4e86-5e9c-4e6a-aa62-27cdca86e8b5",
   "metadata": {},
   "outputs": [],
   "source": []
  }
 ],
 "metadata": {
  "kernelspec": {
   "display_name": "Python (LangChain)",
   "language": "python",
   "name": "langchain_env"
  },
  "language_info": {
   "codemirror_mode": {
    "name": "ipython",
    "version": 3
   },
   "file_extension": ".py",
   "mimetype": "text/x-python",
   "name": "python",
   "nbconvert_exporter": "python",
   "pygments_lexer": "ipython3",
   "version": "3.11.10"
  }
 },
 "nbformat": 4,
 "nbformat_minor": 5
}
